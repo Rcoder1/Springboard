{
 "cells": [
  {
   "cell_type": "code",
   "execution_count": 1,
   "metadata": {},
   "outputs": [],
   "source": [
    "from sqlalchemy import create_engine\n",
    "import pandas as pd"
   ]
  },
  {
   "cell_type": "code",
   "execution_count": 2,
   "metadata": {},
   "outputs": [],
   "source": [
    "engine = create_engine('sqlite:///sqlite_db_pythonsqlite.db')"
   ]
  },
  {
   "cell_type": "code",
   "execution_count": 3,
   "metadata": {},
   "outputs": [
    {
     "name": "stdout",
     "output_type": "stream",
     "text": [
      "      Court_name  Total_revenue\n",
      "0     Pool Table            270\n",
      "1  Snooker Table            240\n",
      "2   Table Tennis            180\n"
     ]
    }
   ],
   "source": [
    "#Q 10\n",
    "df10 = pd.read_sql_query(\"SELECT f.name as Court_name,sum(case when b.memid = 0 then b.slots*f.guestcost else b.slots*f.membercost end) as Total_revenue FROM `Bookings` b inner join `Facilities` f on b.facid = f.facid group by 1 HAVING sum(case when b.memid = 0 then b.slots*f.guestcost else b.slots*f.membercost end) < 1000 order by 2 DESC\", engine)\n",
    "print(df10)"
   ]
  },
  {
   "cell_type": "code",
   "execution_count": 4,
   "metadata": {},
   "outputs": [
    {
     "name": "stdout",
     "output_type": "stream",
     "text": [
      "                Member_Name      Recommendedby\n",
      "0            Bader Florence    Stibbons Ponder\n",
      "1                Baker Anne    Stibbons Ponder\n",
      "2             Baker Timothy     Farrell Jemima\n",
      "3                Boothe Tim         Rownam Tim\n",
      "4            Butters Gerald       Smith Darren\n",
      "5               Coplin Joan      Baker Timothy\n",
      "6             Crumpet Erica        Smith Tracy\n",
      "7                Dare Nancy    Joplette Janice\n",
      "8             Farrell David               None\n",
      "9            Farrell Jemima               None\n",
      "10          Genting Matthew     Butters Gerald\n",
      "11                Hunt John  Purview Millicent\n",
      "12              Jones David    Joplette Janice\n",
      "13            Jones Douglas        Jones David\n",
      "14          Joplette Janice       Smith Darren\n",
      "15           Mackenzie Anna       Smith Darren\n",
      "16             Owen Charles       Smith Darren\n",
      "17             Pinker David     Farrell Jemima\n",
      "18        Purview Millicent        Smith Tracy\n",
      "19               Rownam Tim               None\n",
      "20         Rumney Henrietta    Genting Matthew\n",
      "21         Sarwin Ramnaresh     Bader Florence\n",
      "22             Smith Darren               None\n",
      "23             Smith Darren               None\n",
      "24               Smith Jack       Smith Darren\n",
      "25              Smith Tracy               None\n",
      "26          Stibbons Ponder       Tracy Burton\n",
      "27             Tracy Burton               None\n",
      "28      Tupperware Hyacinth               None\n",
      "29  Worthington-Smyth Henry        Smith Tracy\n"
     ]
    }
   ],
   "source": [
    "#Q11\n",
    "df11 = pd.read_sql_query(\"SELECT m1.surname || ' ' || m1.firstname AS Member_Name, m2.surname || ' ' || m2.firstname as Recommendedby FROM `Members` m1 left join `Members` m2 on m1.recommendedby = m2.memid where m1.memid!=0 ORDER by 1\",engine)\n",
    "print(df11)"
   ]
  },
  {
   "cell_type": "code",
   "execution_count": 5,
   "metadata": {},
   "outputs": [
    {
     "name": "stdout",
     "output_type": "stream",
     "text": [
      "        Court_name  Facility_Usage\n",
      "0       Pool Table             783\n",
      "1    Snooker Table             421\n",
      "2   Massage Room 1             421\n",
      "3     Table Tennis             385\n",
      "4  Badminton Court             344\n",
      "5   Tennis Court 1             308\n",
      "6   Tennis Court 2             276\n",
      "7     Squash Court             195\n",
      "8   Massage Room 2              27\n"
     ]
    }
   ],
   "source": [
    "#Q12\n",
    "df12 = pd.read_sql_query(\"SELECT f.name as Court_name,count(*) as Facility_Usage FROM `Bookings` b inner join `Facilities` f on b.facid = f.facid where b.memid!=0 group by 1 order by 2 DESC\",engine)\n",
    "print(df12)"
   ]
  },
  {
   "cell_type": "code",
   "execution_count": 6,
   "metadata": {},
   "outputs": [
    {
     "name": "stdout",
     "output_type": "stream",
     "text": [
      "         Court_name Month  Facility_Usage\n",
      "0   Badminton Court    07              51\n",
      "1   Badminton Court    08             132\n",
      "2   Badminton Court    09             161\n",
      "3    Massage Room 1    07              77\n",
      "4    Massage Room 1    08             153\n",
      "5    Massage Room 1    09             191\n",
      "6    Massage Room 2    07               4\n",
      "7    Massage Room 2    08               9\n",
      "8    Massage Room 2    09              14\n",
      "9        Pool Table    07             103\n",
      "10       Pool Table    08             272\n",
      "11       Pool Table    09             408\n",
      "12    Snooker Table    07              68\n",
      "13    Snooker Table    08             154\n",
      "14    Snooker Table    09             199\n",
      "15     Squash Court    07              23\n",
      "16     Squash Court    08              85\n",
      "17     Squash Court    09              87\n",
      "18     Table Tennis    07              48\n",
      "19     Table Tennis    08             143\n",
      "20     Table Tennis    09             194\n",
      "21   Tennis Court 1    07              65\n",
      "22   Tennis Court 1    08             111\n",
      "23   Tennis Court 1    09             132\n",
      "24   Tennis Court 2    07              41\n",
      "25   Tennis Court 2    08             109\n",
      "26   Tennis Court 2    09             126\n"
     ]
    }
   ],
   "source": [
    "#Q13\n",
    "df13 = pd.read_sql_query(\"SELECT f.name as Court_name, strftime('%m', b.starttime) as Month,count(*) as Facility_Usage FROM `Bookings` b inner join `Facilities` f on b.facid = f.facid where b.memid!=0 group by 1,2 order by 1,2\",engine)\n",
    "print(df13)"
   ]
  }
 ],
 "metadata": {
  "kernelspec": {
   "display_name": "Python 3",
   "language": "python",
   "name": "python3"
  },
  "language_info": {
   "codemirror_mode": {
    "name": "ipython",
    "version": 3
   },
   "file_extension": ".py",
   "mimetype": "text/x-python",
   "name": "python",
   "nbconvert_exporter": "python",
   "pygments_lexer": "ipython3",
   "version": "3.8.5"
  }
 },
 "nbformat": 4,
 "nbformat_minor": 4
}
